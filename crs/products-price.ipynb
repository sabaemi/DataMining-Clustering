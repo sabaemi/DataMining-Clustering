{
  "nbformat": 4,
  "nbformat_minor": 0,
  "metadata": {
    "colab": {
      "provenance": []
    },
    "kernelspec": {
      "name": "python3",
      "display_name": "Python 3"
    },
    "language_info": {
      "name": "python"
    }
  },
  "cells": [
    {
      "cell_type": "markdown",
      "source": [
        "Clustering cities based on the products that have sales posts in them"
      ],
      "metadata": {
        "id": "rWx-hzRHaCgr"
      }
    },
    {
      "cell_type": "code",
      "metadata": {
        "colab": {
          "base_uri": "https://localhost:8080/",
          "height": 530
        },
        "id": "aYjZOL30aedl",
        "outputId": "88ef6e50-784f-4db5-8277-29f9a78b0d38"
      },
      "source": [
        "import pandas as pd\n",
        "import numpy as np\n",
        "import seaborn as sns\n",
        "from sklearn.preprocessing import LabelEncoder\n",
        "from numpy import unique\n",
        "from numpy import where\n",
        "import matplotlib.pyplot as plt\n",
        "%matplotlib inline \n",
        "from sklearn.cluster import KMeans\n",
        "%cd /content/drive/My Drive/Colab Notebooks/\n",
        "df = pd.read_csv(r'divar_posts_dataset.csv')\n",
        "df=df[df.price!=-1]\n",
        "feature_columns = ['price','cat2']\n",
        "df=df[feature_columns]\n",
        "cut1 = pd.notnull(df[\"cat2\"])\n",
        "dff1=df[cut1]\n",
        "df31=dff1[\"cat2\"].unique().tolist()\n",
        "df1 = df31\n",
        "# df1=df[\"cat2\"].unique().tolist()\n",
        "cut = pd.notnull(df[\"price\"])\n",
        "dff=df[cut]\n",
        "df3=dff[\"price\"].unique().tolist()\n",
        "dfcat = df3\n",
        "df=df.to_dict(\"records\")\n",
        "x=np.zeros((len(df1),len(dfcat)))\n",
        "for a in df:\n",
        "  for i in range(len(df1)):\n",
        "    if a['cat2']==df1[i]:\n",
        "      for j in range(len(dfcat)):\n",
        "        if a['price']==dfcat[j]:\n",
        "          x[i][j]=1\n",
        "distortions = []\n",
        "K = range(1,9)\n",
        "for k in K:\n",
        "    kmeanModel = KMeans(n_clusters=k)\n",
        "    kmeanModel.fit(x)\n",
        "    distortions.append(kmeanModel.inertia_)\n",
        "plt.figure(figsize=(16,8))\n",
        "plt.plot(K, distortions, 'bx-')\n",
        "plt.xlabel('k')\n",
        "plt.ylabel('Distortion')\n",
        "plt.title('The Elbow Method showing the optimal k')\n",
        "plt.show()"
      ],
      "execution_count": null,
      "outputs": [
        {
          "output_type": "stream",
          "text": [
            "/content/drive/My Drive/Colab Notebooks\n"
          ],
          "name": "stdout"
        },
        {
          "output_type": "display_data",
          "data": {
            "image/png": "[encoded data removed]",
            "text/plain": [
              "<Figure size 1152x576 with 1 Axes>"
            ]
          },
          "metadata": {
            "tags": [],
            "needs_background": "light"
          }
        }
      ]
    },
    {
      "cell_type": "markdown",
      "metadata": {
        "id": "GfPcAkrSbJab"
      },
      "source": [
        "KMeans"
      ]
    },
    {
      "cell_type": "code",
      "metadata": {
        "colab": {
          "base_uri": "https://localhost:8080/"
        },
        "id": "gnbqo4TKaqf0",
        "outputId": "3b0a03dd-499b-498a-ebba-0282c0208138"
      },
      "source": [
        "from sklearn.cluster import KMeans\n",
        "kmeans = KMeans(n_clusters = 6, max_iter = 300, random_state = 0)\n",
        "kmeans.fit(x)\n",
        "centers = kmeans.cluster_centers_\n",
        "from matplotlib import pyplot\n",
        "yhat= kmeans.predict(x)\n",
        "clusters=unique(yhat)\n",
        "for i in clusters:\n",
        "  print(\"Cluster\",i,\"countains:\")\n",
        "  for j in range(len(yhat)):\n",
        "    if yhat[j]==i :\n",
        "      print(\"product\",df1[j]) "
      ],
      "execution_count": null,
      "outputs": [
        {
          "output_type": "stream",
          "text": [
            "Cluster 0 countains:\n",
            "product baby-and-toys\n",
            "product clothing-and-shoes\n",
            "product animals\n",
            "product batch\n",
            "product health-beauty\n",
            "Cluster 1 countains:\n",
            "product cars\n",
            "Cluster 2 countains:\n",
            "product furniture-and-home-decore\n",
            "product utensils-and-appliances\n",
            "product mobile-tablet\n",
            "product equipments-and-machinery\n",
            "Cluster 3 countains:\n",
            "product childrens-clothing-and-shoe\n",
            "product musical-instruments\n",
            "product book-student-literature\n",
            "product hobby-collectibles\n",
            "product utility\n",
            "product leisure-hobbies-toys\n",
            "product travel-packages\n",
            "product phone\n",
            "Cluster 4 countains:\n",
            "product parts-accessories\n",
            "product game-consoles-and-video-games\n",
            "product audio-video\n",
            "product building-and-garden\n",
            "product jewelry-and-watches\n",
            "product bicycle\n",
            "product computers\n",
            "product sport-leisure\n",
            "Cluster 5 countains:\n",
            "product motorcycles\n"
          ],
          "name": "stdout"
        }
      ]
    },
    {
      "cell_type": "markdown",
      "metadata": {
        "id": "94Dle5XNr-_n"
      },
      "source": [
        "Agglomerative"
      ]
    },
    {
      "cell_type": "code",
      "metadata": {
        "colab": {
          "base_uri": "https://localhost:8080/"
        },
        "id": "DAWJ-x8OdtEv",
        "outputId": "68b6483a-55fc-4403-b71b-5575b5604831"
      },
      "source": [
        "from sklearn.cluster import AgglomerativeClustering\n",
        "model= AgglomerativeClustering(n_clusters=6)\n",
        "yhat=model.fit_predict(x)\n",
        "clusters=unique(yhat)\n",
        "for i in clusters:\n",
        "  print(\"Cluster\",i,\"countains:\")\n",
        "  for j in range(len(yhat)):\n",
        "    if yhat[j]==i :\n",
        "      print(\"city\",df1[j]) "
      ],
      "execution_count": null,
      "outputs": [
        {
          "output_type": "stream",
          "text": [
            "Cluster 0 countains:\n",
            "city furniture-and-home-decore\n",
            "city utensils-and-appliances\n",
            "city audio-video\n",
            "city computers\n",
            "Cluster 1 countains:\n",
            "city equipments-and-machinery\n",
            "city motorcycles\n",
            "Cluster 2 countains:\n",
            "city childrens-clothing-and-shoe\n",
            "city building-and-garden\n",
            "city jewelry-and-watches\n",
            "city bicycle\n",
            "city musical-instruments\n",
            "city sport-leisure\n",
            "city book-student-literature\n",
            "city hobby-collectibles\n",
            "city leisure-hobbies-toys\n",
            "city travel-packages\n",
            "city phone\n",
            "Cluster 3 countains:\n",
            "city cars\n",
            "Cluster 4 countains:\n",
            "city baby-and-toys\n",
            "city parts-accessories\n",
            "city clothing-and-shoes\n",
            "city game-consoles-and-video-games\n",
            "city animals\n",
            "city batch\n",
            "city health-beauty\n",
            "city utility\n",
            "Cluster 5 countains:\n",
            "city mobile-tablet\n"
          ],
          "name": "stdout"
        }
      ]
    },
    {
      "cell_type": "markdown",
      "metadata": {
        "id": "1btq4HZ0sBji"
      },
      "source": [
        "DBSCAN"
      ]
    },
    {
      "cell_type": "code",
      "metadata": {
        "colab": {
          "base_uri": "https://localhost:8080/"
        },
        "id": "pfgPYLEie2in",
        "outputId": "a50f155d-7a80-41ce-cc3c-4beadc1f87c0"
      },
      "source": [
        "from sklearn.cluster import DBSCAN\n",
        "model= DBSCAN(eps=0.35, min_samples=9)\n",
        "yhat=model.fit_predict(x)\n",
        "clusters=unique(yhat)\n",
        "for i in clusters:\n",
        "  print(\"Cluster\",i,\"countains:\")\n",
        "  for j in range(len(yhat)):\n",
        "    if yhat[j]==i :\n",
        "      print(\"city\",df1[j]) "
      ],
      "execution_count": null,
      "outputs": [
        {
          "output_type": "stream",
          "text": [
            "Cluster -1 countains:\n",
            "city furniture-and-home-decore\n",
            "city baby-and-toys\n",
            "city parts-accessories\n",
            "city utensils-and-appliances\n",
            "city clothing-and-shoes\n",
            "city mobile-tablet\n",
            "city childrens-clothing-and-shoe\n",
            "city game-consoles-and-video-games\n",
            "city audio-video\n",
            "city cars\n",
            "city building-and-garden\n",
            "city jewelry-and-watches\n",
            "city equipments-and-machinery\n",
            "city bicycle\n",
            "city animals\n",
            "city batch\n",
            "city musical-instruments\n",
            "city health-beauty\n",
            "city motorcycles\n",
            "city computers\n",
            "city sport-leisure\n",
            "city book-student-literature\n",
            "city hobby-collectibles\n",
            "city utility\n",
            "city leisure-hobbies-toys\n",
            "city travel-packages\n",
            "city phone\n"
          ],
          "name": "stdout"
        }
      ]
    },
    {
      "cell_type": "markdown",
      "metadata": {
        "id": "vvwAi6aJsD4I"
      },
      "source": [
        "MeanShift"
      ]
    },
    {
      "cell_type": "code",
      "metadata": {
        "colab": {
          "base_uri": "https://localhost:8080/"
        },
        "id": "0EuynhR3e6gl",
        "outputId": "9fdd5aad-0ad6-4e2a-8f5c-e0bb902d1b81"
      },
      "source": [
        "from sklearn.cluster import MeanShift\n",
        "model= MeanShift()\n",
        "yhat= model.fit_predict(x)\n",
        "clusters=unique(yhat)\n",
        "for i in clusters:\n",
        "  print(\"Cluster\",i,\"countains:\")\n",
        "  for j in range(len(yhat)):\n",
        "    if yhat[j]==i :\n",
        "      print(\"city\",df1[j])"
      ],
      "execution_count": null,
      "outputs": [
        {
          "output_type": "stream",
          "text": [
            "Cluster 0 countains:\n",
            "city baby-and-toys\n",
            "city parts-accessories\n",
            "city utensils-and-appliances\n",
            "city clothing-and-shoes\n",
            "city childrens-clothing-and-shoe\n",
            "city game-consoles-and-video-games\n",
            "city audio-video\n",
            "city building-and-garden\n",
            "city jewelry-and-watches\n",
            "city bicycle\n",
            "city animals\n",
            "city batch\n",
            "city musical-instruments\n",
            "city health-beauty\n",
            "city computers\n",
            "city sport-leisure\n",
            "city book-student-literature\n",
            "city hobby-collectibles\n",
            "city utility\n",
            "city leisure-hobbies-toys\n",
            "city travel-packages\n",
            "city phone\n",
            "Cluster 1 countains:\n",
            "city equipments-and-machinery\n",
            "Cluster 2 countains:\n",
            "city cars\n",
            "Cluster 3 countains:\n",
            "city furniture-and-home-decore\n",
            "Cluster 4 countains:\n",
            "city motorcycles\n",
            "Cluster 5 countains:\n",
            "city mobile-tablet\n"
          ],
          "name": "stdout"
        }
      ]
    },
    {
      "cell_type": "markdown",
      "metadata": {
        "id": "U6rXKK9asGX6"
      },
      "source": [
        "Gaussian"
      ]
    },
    {
      "cell_type": "code",
      "metadata": {
        "colab": {
          "base_uri": "https://localhost:8080/"
        },
        "id": "o_xAgDL0e-ci",
        "outputId": "9c8826b8-c6b6-4070-aa61-07ca4db6b157"
      },
      "source": [
        "from sklearn.mixture import GaussianMixture\n",
        "model= GaussianMixture(n_components=6)\n",
        "model.fit(x)\n",
        "yhat= model.predict(x)\n",
        "clusters=unique(yhat)\n",
        "for i in clusters:\n",
        "  print(\"Cluster\",i,\"countains:\")\n",
        "  for j in range(len(yhat)):\n",
        "    if yhat[j]==i :\n",
        "      print(\"city\",df1[j])"
      ],
      "execution_count": null,
      "outputs": [
        {
          "output_type": "stream",
          "text": [
            "Cluster 0 countains:\n",
            "city parts-accessories\n",
            "city utensils-and-appliances\n",
            "city mobile-tablet\n",
            "city game-consoles-and-video-games\n",
            "city audio-video\n",
            "city equipments-and-machinery\n",
            "city computers\n",
            "Cluster 1 countains:\n",
            "city baby-and-toys\n",
            "city clothing-and-shoes\n",
            "city childrens-clothing-and-shoe\n",
            "city animals\n",
            "city batch\n",
            "city health-beauty\n",
            "city book-student-literature\n",
            "city hobby-collectibles\n",
            "city utility\n",
            "city leisure-hobbies-toys\n",
            "city phone\n",
            "Cluster 2 countains:\n",
            "city motorcycles\n",
            "Cluster 3 countains:\n",
            "city cars\n",
            "Cluster 4 countains:\n",
            "city furniture-and-home-decore\n",
            "Cluster 5 countains:\n",
            "city building-and-garden\n",
            "city jewelry-and-watches\n",
            "city bicycle\n",
            "city musical-instruments\n",
            "city sport-leisure\n",
            "city travel-packages\n"
          ],
          "name": "stdout"
        }
      ]
    }
  ]
}
