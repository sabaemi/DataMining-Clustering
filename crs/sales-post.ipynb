{
  "nbformat": 4,
  "nbformat_minor": 0,
  "metadata": {
    "colab": {
      "name": "soal1.ipynb",
      "provenance": [],
      "collapsed_sections": []
    },
    "kernelspec": {
      "display_name": "Python 3",
      "name": "python3"
    },
    "language_info": {
      "name": "python"
    }
  },
  "cells": [
    {
      "cell_type": "markdown",
      "metadata": {
        "id": "PuCwXqgw9Y4p"
      },
      "source": [
        "\n",
        "Clustering cities based on the products that have sales posts in them\n",
        "\n",
        "Clustering with all three Categories\n"
      ]
    },
    {
      "cell_type": "code",
      "metadata": {
        "colab": {
          "base_uri": "https://localhost:8080/",
          "height": 530
        },
        "id": "wxu7c0pM9Odi",
        "outputId": "4dd4c27e-5fee-4ea7-f10f-a3806c679376"
      },
      "source": [
        "import pandas as pd\n",
        "import numpy as np\n",
        "import seaborn as sns\n",
        "from sklearn.preprocessing import LabelEncoder\n",
        "from numpy import unique\n",
        "from numpy import where\n",
        "import matplotlib.pyplot as plt\n",
        "%matplotlib inline \n",
        "from sklearn.cluster import KMeans\n",
        "%cd /content/drive/My Drive/Colab Notebooks/\n",
        "df = pd.read_csv(r'divar_posts_dataset.csv')\n",
        "\n",
        "feature_columns = ['cat1','cat2','cat3','city']\n",
        "df=df[feature_columns]\n",
        "df1=df[\"city\"].unique().tolist()\n",
        "df2=df[\"cat1\"].unique().tolist()\n",
        "cut = pd.notnull(df[\"cat2\"])\n",
        "dff=df[cut]\n",
        "df3=dff[\"cat2\"].unique().tolist()\n",
        "cut3 = pd.notnull(df[\"cat3\"])\n",
        "dff3=df[cut3]\n",
        "df4=dff3[\"cat3\"].unique().tolist()\n",
        "dfcat = df2 + df3+df4\n",
        "df=df.to_dict(\"records\")\n",
        "x=np.zeros((len(df1),len(df2)+len(df3)+len(df4)))\n",
        "for a in df:\n",
        "  for i in range(len(df1)):\n",
        "    if a['city']==df1[i]:\n",
        "      for j in range(len(dfcat)):\n",
        "        if a['cat1']==dfcat[j] or a['cat2']==dfcat[j] or a['cat3']==dfcat[j]:\n",
        "          x[i][j]=1\n",
        "distortions = []\n",
        "K = range(1,9)\n",
        "for k in K:\n",
        "    kmeanModel = KMeans(n_clusters=k)\n",
        "    kmeanModel.fit(x)\n",
        "    distortions.append(kmeanModel.inertia_)\n",
        "plt.figure(figsize=(16,8))\n",
        "plt.plot(K, distortions, 'bx-')\n",
        "plt.xlabel('k')\n",
        "plt.ylabel('Distortion')\n",
        "plt.title('The Elbow Method showing the optimal k')\n",
        "plt.show()"
      ],
      "execution_count": null,
      "outputs": [
        {
          "output_type": "stream",
          "text": [
            "/content/drive/My Drive/Colab Notebooks\n"
          ],
          "name": "stdout"
        },
        {
          "output_type": "display_data",
          "data": {
            "image/png": "[encoded data removed]",
            "text/plain": [
              "<Figure size 1152x576 with 1 Axes>"
            ]
          },
          "metadata": {
            "tags": [],
            "needs_background": "light"
          }
        }
      ]
    },
    {
      "cell_type": "markdown",
      "metadata": {
        "id": "sxg4yQ7KF0gS"
      },
      "source": [
        "kmeans"
      ]
    },
    {
      "cell_type": "code",
      "metadata": {
        "colab": {
          "base_uri": "https://localhost:8080/"
        },
        "id": "Kdk4Bycl9UCz",
        "outputId": "bf1f4bb8-d46e-4c1b-a018-a76a5ea66e5c"
      },
      "source": [
        "from sklearn.cluster import KMeans\n",
        "kmeans = KMeans(n_clusters = 4, max_iter = 300, random_state = 0)\n",
        "kmeans.fit(x)\n",
        "centers = kmeans.cluster_centers_\n",
        "from matplotlib import pyplot\n",
        "yhat= kmeans.predict(x)\n",
        "clusters=unique(yhat)\n",
        "for i in clusters:\n",
        "  print(\"Cluster\",i,\"countains:\")\n",
        "  for j in range(len(yhat)):\n",
        "    if yhat[j]==i :\n",
        "      print(\"city\",df1[j]) "
      ],
      "execution_count": null,
      "outputs": [
        {
          "output_type": "stream",
          "text": [
            "Cluster 0 countains:\n",
            "city Qom\n",
            "city Tabriz\n",
            "city Kermanshah\n",
            "Cluster 1 countains:\n",
            "city Isfahan\n",
            "city Ahvaz\n",
            "Cluster 2 countains:\n",
            "city Tehran\n",
            "Cluster 3 countains:\n",
            "city Mashhad\n",
            "city Karaj\n",
            "city Shiraz\n"
          ],
          "name": "stdout"
        }
      ]
    },
    {
      "cell_type": "markdown",
      "metadata": {
        "id": "YIE95E_KF5wW"
      },
      "source": [
        "Agglomerative"
      ]
    },
    {
      "cell_type": "code",
      "metadata": {
        "colab": {
          "base_uri": "https://localhost:8080/"
        },
        "id": "MRPaupCyCmDH",
        "outputId": "23aad199-4715-4e22-d337-c9ec2649310e"
      },
      "source": [
        "from sklearn.cluster import AgglomerativeClustering\n",
        "model= AgglomerativeClustering(n_clusters=4)\n",
        "yhat=model.fit_predict(x)\n",
        "clusters=unique(yhat)\n",
        "for i in clusters:\n",
        "  print(\"Cluster\",i,\"countains:\")\n",
        "  for j in range(len(yhat)):\n",
        "    if yhat[j]==i :\n",
        "      print(\"city\",df1[j]) "
      ],
      "execution_count": null,
      "outputs": [
        {
          "output_type": "stream",
          "text": [
            "Cluster 0 countains:\n",
            "city Qom\n",
            "city Tabriz\n",
            "city Kermanshah\n",
            "Cluster 1 countains:\n",
            "city Isfahan\n",
            "city Ahvaz\n",
            "Cluster 2 countains:\n",
            "city Tehran\n",
            "Cluster 3 countains:\n",
            "city Mashhad\n",
            "city Karaj\n",
            "city Shiraz\n"
          ],
          "name": "stdout"
        }
      ]
    },
    {
      "cell_type": "markdown",
      "metadata": {
        "id": "43buUbJ7F8XG"
      },
      "source": [
        "DBSCAN"
      ]
    },
    {
      "cell_type": "code",
      "metadata": {
        "colab": {
          "base_uri": "https://localhost:8080/"
        },
        "id": "sAXuXCjLDAIN",
        "outputId": "4a1025e8-5a27-4cc4-e898-ffefdd385103"
      },
      "source": [
        "from sklearn.cluster import DBSCAN\n",
        "model= DBSCAN(eps=0.5, min_samples=4)\n",
        "yhat=model.fit_predict(x)\n",
        "clusters=unique(yhat)\n",
        "for i in clusters:\n",
        "  print(\"Cluster\",i,\"countains:\")\n",
        "  for j in range(len(yhat)):\n",
        "    if yhat[j]==i :\n",
        "      print(\"city\",df1[j]) "
      ],
      "execution_count": null,
      "outputs": [
        {
          "output_type": "stream",
          "text": [
            "Cluster -1 countains:\n",
            "city Tehran\n",
            "city Mashhad\n",
            "city Karaj\n",
            "city Qom\n",
            "city Isfahan\n",
            "city Shiraz\n",
            "city Tabriz\n",
            "city Ahvaz\n",
            "city Kermanshah\n"
          ],
          "name": "stdout"
        }
      ]
    },
    {
      "cell_type": "markdown",
      "metadata": {
        "id": "ifQYj3LFF_pJ"
      },
      "source": [
        "MeanShift"
      ]
    },
    {
      "cell_type": "code",
      "metadata": {
        "colab": {
          "base_uri": "https://localhost:8080/"
        },
        "id": "h0UOrXkoDcgv",
        "outputId": "ded475b5-de99-4695-ff44-8bab683720ce"
      },
      "source": [
        "from sklearn.cluster import MeanShift\n",
        "model= MeanShift()\n",
        "yhat= model.fit_predict(x)\n",
        "clusters=unique(yhat)\n",
        "for i in clusters:\n",
        "  print(\"Cluster\",i,\"countains:\")\n",
        "  for j in range(len(yhat)):\n",
        "    if yhat[j]==i :\n",
        "      print(\"city\",df1[j])"
      ],
      "execution_count": null,
      "outputs": [
        {
          "output_type": "stream",
          "text": [
            "Cluster 0 countains:\n",
            "city Mashhad\n",
            "city Karaj\n",
            "city Isfahan\n",
            "city Shiraz\n",
            "Cluster 1 countains:\n",
            "city Tehran\n",
            "Cluster 2 countains:\n",
            "city Qom\n",
            "Cluster 3 countains:\n",
            "city Ahvaz\n",
            "Cluster 4 countains:\n",
            "city Tabriz\n",
            "Cluster 5 countains:\n",
            "city Kermanshah\n"
          ],
          "name": "stdout"
        }
      ]
    },
    {
      "cell_type": "markdown",
      "metadata": {
        "id": "KaLXFtxSGBZj"
      },
      "source": [
        "Gaussian"
      ]
    },
    {
      "cell_type": "code",
      "metadata": {
        "colab": {
          "base_uri": "https://localhost:8080/"
        },
        "id": "C0V8yrhGDt5A",
        "outputId": "dd918e76-9966-47d5-db99-48b4e9037fa7"
      },
      "source": [
        "from sklearn.mixture import GaussianMixture\n",
        "model= GaussianMixture(n_components=4)\n",
        "model.fit(x)\n",
        "yhat= model.predict(x)\n",
        "clusters=unique(yhat)\n",
        "for i in clusters:\n",
        "  print(\"Cluster\",i,\"countains:\")\n",
        "  for j in range(len(yhat)):\n",
        "    if yhat[j]==i :\n",
        "      print(\"city\",df1[j])"
      ],
      "execution_count": null,
      "outputs": [
        {
          "output_type": "stream",
          "text": [
            "Cluster 0 countains:\n",
            "city Isfahan\n",
            "city Ahvaz\n",
            "Cluster 1 countains:\n",
            "city Tehran\n",
            "city Mashhad\n",
            "city Karaj\n",
            "city Shiraz\n",
            "Cluster 2 countains:\n",
            "city Qom\n",
            "Cluster 3 countains:\n",
            "city Tabriz\n",
            "city Kermanshah\n"
          ],
          "name": "stdout"
        }
      ]
    },
    {
      "cell_type": "markdown",
      "metadata": {
        "id": "q7_RTW4g9feb"
      },
      "source": [
        "Clustering with second Category"
      ]
    },
    {
      "cell_type": "code",
      "metadata": {
        "colab": {
          "base_uri": "https://localhost:8080/",
          "height": 530
        },
        "id": "77FCjTWu9gH7",
        "outputId": "3ad9dc67-fa8a-4f4f-eccf-8b838e04eba7"
      },
      "source": [
        "import pandas as pd\n",
        "import numpy as np\n",
        "import seaborn as sns\n",
        "from sklearn.preprocessing import LabelEncoder\n",
        "from numpy import unique\n",
        "from numpy import where\n",
        "import matplotlib.pyplot as plt\n",
        "%matplotlib inline \n",
        "from sklearn.cluster import KMeans\n",
        "%cd /content/drive/My Drive/Colab Notebooks/\n",
        "df = pd.read_csv(r'divar_posts_dataset.csv')\n",
        "\n",
        "feature_columns = ['cat2','city']\n",
        "df=df[feature_columns]\n",
        "df1=df[\"city\"].unique().tolist()\n",
        "cut = pd.notnull(df[\"cat2\"])\n",
        "dff=df[cut]\n",
        "df3=dff[\"cat2\"].unique().tolist()\n",
        "dfcat = df3\n",
        "df=df.to_dict(\"records\")\n",
        "x=np.zeros((len(df1),len(dfcat)))\n",
        "for a in df:\n",
        "  for i in range(len(df1)):\n",
        "    if a['city']==df1[i]:\n",
        "      for j in range(len(dfcat)):\n",
        "        if a['cat2']==dfcat[j]:\n",
        "          x[i][j]=1\n",
        "distortions = []\n",
        "K = range(1,9)\n",
        "for k in K:\n",
        "    kmeanModel = KMeans(n_clusters=k)\n",
        "    kmeanModel.fit(x)\n",
        "    distortions.append(kmeanModel.inertia_)\n",
        "plt.figure(figsize=(16,8))\n",
        "plt.plot(K, distortions, 'bx-')\n",
        "plt.xlabel('k')\n",
        "plt.ylabel('Distortion')\n",
        "plt.title('The Elbow Method showing the optimal k')\n",
        "plt.show()"
      ],
      "execution_count": null,
      "outputs": [
        {
          "output_type": "stream",
          "text": [
            "/content/drive/My Drive/Colab Notebooks\n"
          ],
          "name": "stdout"
        },
        {
          "output_type": "display_data",
          "data": {
            "image/png": "[encoded data removed]",
            "text/plain": [
              "<Figure size 1152x576 with 1 Axes>"
            ]
          },
          "metadata": {
            "tags": [],
            "needs_background": "light"
          }
        }
      ]
    },
    {
      "cell_type": "markdown",
      "metadata": {
        "id": "kvXuNnbR9w2v"
      },
      "source": [
        "KMeans"
      ]
    },
    {
      "cell_type": "code",
      "metadata": {
        "colab": {
          "base_uri": "https://localhost:8080/"
        },
        "id": "LaW7eVkI9rEZ",
        "outputId": "9c7cf173-e037-45ea-ef51-757fe4b569bf"
      },
      "source": [
        "# from sklearn.preprocessing import MinMaxScaler\n",
        "# scaler = MinMaxScaler()\n",
        "# x = scaler.fit_transform(x)\n",
        "from sklearn.cluster import KMeans\n",
        "kmeans = KMeans(n_clusters = 4, max_iter = 300, random_state = 0)\n",
        "kmeans.fit(x)\n",
        "centers = kmeans.cluster_centers_\n",
        "from matplotlib import pyplot\n",
        "yhat= kmeans.predict(x)\n",
        "clusters=unique(yhat)\n",
        "for i in clusters:\n",
        "  print(\"Cluster\",i,\"countains:\")\n",
        "  for j in range(len(yhat)):\n",
        "    if yhat[j]==i :\n",
        "      print(\"city\",df1[j]) "
      ],
      "execution_count": null,
      "outputs": [
        {
          "output_type": "stream",
          "text": [
            "Cluster 0 countains:\n",
            "city Mashhad\n",
            "city Qom\n",
            "city Shiraz\n",
            "Cluster 1 countains:\n",
            "city Karaj\n",
            "city Isfahan\n",
            "city Tabriz\n",
            "city Ahvaz\n",
            "Cluster 2 countains:\n",
            "city Tehran\n",
            "Cluster 3 countains:\n",
            "city Kermanshah\n"
          ],
          "name": "stdout"
        }
      ]
    },
    {
      "cell_type": "markdown",
      "metadata": {
        "id": "t7__Pn4u-AbH"
      },
      "source": [
        "Agglomerative"
      ]
    },
    {
      "cell_type": "code",
      "metadata": {
        "colab": {
          "base_uri": "https://localhost:8080/"
        },
        "id": "slAsXvtY9y36",
        "outputId": "ce3340a9-736d-44c6-c40a-e58b984af1e0"
      },
      "source": [
        "from sklearn.cluster import AgglomerativeClustering\n",
        "model= AgglomerativeClustering(n_clusters=4)\n",
        "yhat=model.fit_predict(x)\n",
        "clusters=unique(yhat)\n",
        "for i in clusters:\n",
        "  print(\"Cluster\",i,\"countains:\")\n",
        "  for j in range(len(yhat)):\n",
        "    if yhat[j]==i :\n",
        "      print(\"city\",df1[j]) "
      ],
      "execution_count": null,
      "outputs": [
        {
          "output_type": "stream",
          "text": [
            "Cluster 0 countains:\n",
            "city Karaj\n",
            "city Isfahan\n",
            "city Tabriz\n",
            "city Ahvaz\n",
            "Cluster 1 countains:\n",
            "city Mashhad\n",
            "city Qom\n",
            "city Shiraz\n",
            "Cluster 2 countains:\n",
            "city Tehran\n",
            "Cluster 3 countains:\n",
            "city Kermanshah\n"
          ],
          "name": "stdout"
        }
      ]
    },
    {
      "cell_type": "markdown",
      "metadata": {
        "id": "J4Fty2ZR-QKZ"
      },
      "source": [
        "MeanShift"
      ]
    },
    {
      "cell_type": "code",
      "metadata": {
        "colab": {
          "base_uri": "https://localhost:8080/"
        },
        "id": "WbyxEWEG-OfU",
        "outputId": "55d9cb33-4c5d-480d-f85c-1605387b5356"
      },
      "source": [
        "from sklearn.cluster import MeanShift\n",
        "model= MeanShift()\n",
        "yhat= model.fit_predict(x)\n",
        "clusters=unique(yhat)\n",
        "for i in clusters:\n",
        "  print(\"Cluster\",i,\"countains:\")\n",
        "  for j in range(len(yhat)):\n",
        "    if yhat[j]==i :\n",
        "      print(\"city\",df1[j])"
      ],
      "execution_count": null,
      "outputs": [
        {
          "output_type": "stream",
          "text": [
            "Cluster 0 countains:\n",
            "city Mashhad\n",
            "city Karaj\n",
            "city Isfahan\n",
            "city Shiraz\n",
            "city Ahvaz\n",
            "Cluster 1 countains:\n",
            "city Tehran\n",
            "Cluster 2 countains:\n",
            "city Qom\n",
            "Cluster 3 countains:\n",
            "city Tabriz\n",
            "Cluster 4 countains:\n",
            "city Kermanshah\n"
          ],
          "name": "stdout"
        }
      ]
    },
    {
      "cell_type": "markdown",
      "metadata": {
        "id": "Xaj91iax-WsC"
      },
      "source": [
        "Gaussian"
      ]
    },
    {
      "cell_type": "code",
      "metadata": {
        "colab": {
          "base_uri": "https://localhost:8080/"
        },
        "id": "hhNmy-H2-U_R",
        "outputId": "b4782580-e5a5-4287-802b-a2540f0b90d3"
      },
      "source": [
        "from sklearn.mixture import GaussianMixture\n",
        "model= GaussianMixture(n_components=4)\n",
        "model.fit(x)\n",
        "yhat= model.predict(x)\n",
        "clusters=unique(yhat)\n",
        "for i in clusters:\n",
        "  print(\"Cluster\",i,\"countains:\")\n",
        "  for j in range(len(yhat)):\n",
        "    if yhat[j]==i :\n",
        "      print(\"city\",df1[j])"
      ],
      "execution_count": null,
      "outputs": [
        {
          "output_type": "stream",
          "text": [
            "Cluster 0 countains:\n",
            "city Kermanshah\n",
            "Cluster 1 countains:\n",
            "city Mashhad\n",
            "city Qom\n",
            "city Shiraz\n",
            "Cluster 2 countains:\n",
            "city Karaj\n",
            "city Isfahan\n",
            "city Tabriz\n",
            "city Ahvaz\n",
            "Cluster 3 countains:\n",
            "city Tehran\n"
          ],
          "name": "stdout"
        }
      ]
    }
  ]
}
